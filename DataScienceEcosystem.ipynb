{
 "cells": [
  {
   "cell_type": "markdown",
   "id": "47ddada2-57f4-4001-982e-4e648368fbe1",
   "metadata": {},
   "source": [
    "# Data Science Ecosystem\n",
    "\n"
   ]
  },
  {
   "cell_type": "markdown",
   "id": "f43f451d-787c-4842-9f64-e95e27fbe9e2",
   "metadata": {},
   "source": [
    "In this Data Science Notebook, some Data Science Tools and Ecosystem are summarized\n"
   ]
  },
  {
   "cell_type": "markdown",
   "id": "c98130a2-c3d8-4f89-aaf7-7dc41015e0bc",
   "metadata": {},
   "source": [
    "__Objectives:__\n",
    "\n",
    "- Listing some popular Languages used in Data Science \n",
    "- Listing some popular Libraries used in Data Science \n",
    "- Making a brief table of some Data Science Tools\n",
    "- Making 2 examples of using arithmetic expressions in Python:\n",
    "  - A simple arithmetic operation\n",
    "  - A conversor from 200 minutes to hours"
   ]
  },
  {
   "cell_type": "markdown",
   "id": "c4ace3dc-7fa4-4700-bde1-df904658f6da",
   "metadata": {},
   "source": [
    "Some of the most popular __languages__ that Data Scientists use are:\n",
    "\n",
    "1. Python\n",
    "2. R\n",
    "3. SQL"
   ]
  },
  {
   "cell_type": "markdown",
   "id": "842edb89-9393-462d-82b1-6cfac25593b8",
   "metadata": {},
   "source": [
    "Some of the most commonly used __libraries__ used by Data Scientists include:\n",
    "\n",
    "1. Pandas\n",
    "2. Numpy\n",
    "3. Seaborn\n",
    "4. Keras\n"
   ]
  },
  {
   "cell_type": "markdown",
   "id": "60d8c8da-bea1-457b-8ed1-c808a54b6c6f",
   "metadata": {},
   "source": [
    "| Data Science Tools | \n",
    "|------------------- |\n",
    "|        IDLE        |   \n",
    "|      PyCharm       |\n",
    "|  Visual Studio     |"
   ]
  },
  {
   "cell_type": "markdown",
   "id": "dd844002-2667-4fac-9416-630489813206",
   "metadata": {},
   "source": [
    "### Here are some examples of evaluating arithmetic expressions in Python"
   ]
  },
  {
   "cell_type": "code",
   "execution_count": 4,
   "id": "9f64e4e9-978b-41ed-87e5-5a6ded633fad",
   "metadata": {},
   "outputs": [
    {
     "data": {
      "text/plain": [
       "17"
      ]
     },
     "execution_count": 4,
     "metadata": {},
     "output_type": "execute_result"
    }
   ],
   "source": [
    "# This a simple arithmetic expression to mutiply then add integers\n",
    "(3*4)+5\n"
   ]
  },
  {
   "cell_type": "code",
   "execution_count": 6,
   "id": "b2fdcfe8-6bf5-40ca-80e7-2213bb68a586",
   "metadata": {},
   "outputs": [
    {
     "name": "stdout",
     "output_type": "stream",
     "text": [
      "200 minutes are 3 hours\n"
     ]
    }
   ],
   "source": [
    "#This cell will convert 200 minutes to hours \n",
    "\n",
    "print('200 minutes are ' + str(int(200/60)) + ' hours')"
   ]
  },
  {
   "cell_type": "markdown",
   "id": "6eede7aa-450a-412a-a4e9-44c250e4155e",
   "metadata": {},
   "source": [
    "## Author\n",
    "Francisco Gutiérrez Peinado"
   ]
  }
 ],
 "metadata": {
  "kernelspec": {
   "display_name": "Python",
   "language": "python",
   "name": "conda-env-python-py"
  },
  "language_info": {
   "codemirror_mode": {
    "name": "ipython",
    "version": 3
   },
   "file_extension": ".py",
   "mimetype": "text/x-python",
   "name": "python",
   "nbconvert_exporter": "python",
   "pygments_lexer": "ipython3",
   "version": "3.7.12"
  }
 },
 "nbformat": 4,
 "nbformat_minor": 5
}
